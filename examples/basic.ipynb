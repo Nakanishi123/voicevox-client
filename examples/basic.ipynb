{
 "cells": [
  {
   "cell_type": "code",
   "execution_count": 1,
   "metadata": {},
   "outputs": [],
   "source": [
    "from voicevox import Client\n",
    "import asyncio\n",
    "\n",
    "\n",
    "async def main():\n",
    "    async with Client() as client:\n",
    "        audio_query = await client.create_audio_query(\"こんにちは！\", speaker=1)\n",
    "        with open(\"voice.wav\", \"wb\") as f:\n",
    "            f.write(await audio_query.synthesis(speaker=1))\n",
    "\n",
    "\n",
    "if __name__ == \"__main__\":\n",
    "    await main()\n"
   ]
  },
  {
   "cell_type": "code",
   "execution_count": null,
   "metadata": {},
   "outputs": [],
   "source": []
  }
 ],
 "metadata": {
  "kernelspec": {
   "display_name": "base",
   "language": "python",
   "name": "python3"
  },
  "language_info": {
   "codemirror_mode": {
    "name": "ipython",
    "version": 3
   },
   "file_extension": ".py",
   "mimetype": "text/x-python",
   "name": "python",
   "nbconvert_exporter": "python",
   "pygments_lexer": "ipython3",
   "version": "3.9.13"
  },
  "orig_nbformat": 4
 },
 "nbformat": 4,
 "nbformat_minor": 2
}
